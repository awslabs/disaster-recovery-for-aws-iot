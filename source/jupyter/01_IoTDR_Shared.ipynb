{
 "cells": [
  {
   "cell_type": "markdown",
   "metadata": {},
   "source": [
    "# AWS Disaster Recovery for IoT\n",
    "\n",
    "You can use this series of Jupyter notebooks to create optional resources or test features for an AWS IoT Disaster Recover (DR) setup. \n",
    "\n",
    "* `01_IoTDR_Shared` (this notebook): Set variables that are used in other notebooks of this series.\n",
    "* `02_IoTDR_ACM_PCA`: Setup your own private certificate authority with [AWS Certificate Manager Private Certificate Authority](https://docs.aws.amazon.com/acm-pca/latest/userguide/PcaWelcome.html). Your own CA can be registered with AWS IoT Core. It can be used to issue your device certificates. If you are using Just-in-Time Registration you must bring your own CA.\n",
    "* `03_IoTDR_Reg_PCA`: Register your private CA with AWS IoT Core.\n",
    "* `04_IoTDR_Device_Certs`: Issue certificates for devices with your private CA.\n",
    "* `05_IoTDR_JITR_Device`: Register a device with AWS IoT Core by using Just-in-Time Registration.\n",
    "\n",
    "### Permissions\n",
    "If you run the Jupyter notebooks on Amazon EC2 or an Amazon SageMaker notebook instance you need to add the following permissions to your instance profile.\n",
    "\n",
    "```\n",
    "{\n",
    "    \"Effect\": \"Allow\",\n",
    "    \"Action\": [\n",
    "        \"acm-pca:*\",\n",
    "        \"iot:*\"\n",
    "    ],\n",
    "    \"Resource\": \"*\"\n",
    "}\n",
    "```"
   ]
  },
  {
   "cell_type": "markdown",
   "metadata": {},
   "source": [
    "## Library"
   ]
  },
  {
   "cell_type": "code",
   "execution_count": null,
   "metadata": {},
   "outputs": [],
   "source": [
    "from os.path import exists, join"
   ]
  },
  {
   "cell_type": "markdown",
   "metadata": {},
   "source": [
    "## Shared Variables\n",
    "Variables which will be used in other notebooks of this series.\n",
    "\n",
    "Modify the variables to reflect your setup.\n",
    "\n",
    "* `aws_region_pca` AWS region where you are going to create the private CA. It can be in the primary or secondary or in another AWS region\n",
    "* `aws_region_primary` AWS IoT DR primary region\n",
    "* `aws_region_secondary` AWS IoT DR secondary region\n",
    "\n",
    "**Hint**: If you have already an ACM private CA and you want to use it in these examples set the variable `Sub_CN` to the common name of your private CA."
   ]
  },
  {
   "cell_type": "code",
   "execution_count": null,
   "metadata": {},
   "outputs": [],
   "source": [
    "CA_subject = {\"C\": \"DE\", \"O\": \"AWS\", \"OU\": \"IoT\", \"ST\": \"Berlin\", \"L\": \"Berlin\", \"CN\": \"IoT DR CA\"}\n",
    "CA_directory = 'CA_{}'.format(CA_subject['CN'])\n",
    "CA_key = 'ca.key.pem'\n",
    "CA_cert = 'ca.crt.pem'\n",
    "\n",
    "PCA_directory = join(CA_directory, 'PCA')\n",
    "\n",
    "config = {}\n",
    "config['aws_region_pca'] = \"eu-west-1\"\n",
    "config['aws_region_primary'] = \"us-east-1\"\n",
    "config['aws_region_secondary'] = \"us-west-2\"\n",
    "config['CA_directory'] = CA_directory\n",
    "config['CA_key'] = CA_key\n",
    "config['CA_cert'] = CA_cert\n",
    "config['PCA_directory'] = PCA_directory\n",
    "config['CA_subject'] = CA_subject\n",
    "config['Sub_CN'] = 'Subordinated IoT Device CA'\n",
    "%store config"
   ]
  }
 ],
 "metadata": {
  "kernelspec": {
   "display_name": "conda_python3",
   "language": "python",
   "name": "conda_python3"
  },
  "language_info": {
   "codemirror_mode": {
    "name": "ipython",
    "version": 3
   },
   "file_extension": ".py",
   "mimetype": "text/x-python",
   "name": "python",
   "nbconvert_exporter": "python",
   "pygments_lexer": "ipython3",
   "version": "3.6.10"
  }
 },
 "nbformat": 4,
 "nbformat_minor": 4
}
