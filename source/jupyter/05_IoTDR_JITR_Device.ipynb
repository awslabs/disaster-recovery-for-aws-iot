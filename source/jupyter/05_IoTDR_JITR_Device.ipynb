{
 "cells": [
  {
   "cell_type": "markdown",
   "metadata": {},
   "source": [
    "# AWS IoT DR - register a device just-in-time\n",
    "\n",
    "In the previous notebooks of this series you have created the prerequisites for just-in-time registration with AWS IoT. A topic rule and a Lambda function which finally provisions your device has been created by the CloudFormation stack for the IoT DR solution.\n",
    "\n",
    "Your device will connect to AWS IoT Core with a certifcate issued by your private CA. Upon the first connect the device will get registered automatically."
   ]
  },
  {
   "cell_type": "markdown",
   "metadata": {},
   "source": [
    "## Libraries"
   ]
  },
  {
   "cell_type": "code",
   "execution_count": null,
   "metadata": {},
   "outputs": [],
   "source": [
    "from AWSIoTPythonSDK.MQTTLib import AWSIoTMQTTClient\n",
    "from os.path import join\n",
    "import boto3\n",
    "import json\n",
    "import logging\n",
    "import time\n",
    "import urllib.request"
   ]
  },
  {
   "cell_type": "markdown",
   "metadata": {},
   "source": [
    "#### Note: If you get an error that the AWSIoTPythonSDK is not installed, install the SDK with the command below and import the libraries again!"
   ]
  },
  {
   "cell_type": "code",
   "execution_count": null,
   "metadata": {},
   "outputs": [],
   "source": [
    "!pip install AWSIoTPythonSDK -t ."
   ]
  },
  {
   "cell_type": "markdown",
   "metadata": {},
   "source": [
    "## Amazon Root CA\n",
    "\n",
    "Get the Amazon Root CA which signed the certificate for IoT Core's MQTT message broker. The CA will be used when connecting a device to AWS IoT Core."
   ]
  },
  {
   "cell_type": "code",
   "execution_count": null,
   "metadata": {},
   "outputs": [],
   "source": [
    "r = urllib.request.urlopen('https://www.amazontrust.com/repository/AmazonRootCA1.pem')\n",
    "cert_pem = r.read().decode()\n",
    "print(cert_pem)\n",
    "\n",
    "f = open('AmazonRootCA1.pem','w')\n",
    "f.write(cert_pem)\n",
    "f.close()"
   ]
  },
  {
   "cell_type": "markdown",
   "metadata": {},
   "source": [
    "## Shared variables\n",
    "\n",
    "Import shared variables into this notebook."
   ]
  },
  {
   "cell_type": "code",
   "execution_count": null,
   "metadata": {},
   "outputs": [],
   "source": [
    "%store -r config\n",
    "print(\"config: {}\".format(json.dumps(config, indent=4, default=str)))"
   ]
  },
  {
   "cell_type": "markdown",
   "metadata": {},
   "source": [
    "## Boto3 clients"
   ]
  },
  {
   "cell_type": "code",
   "execution_count": null,
   "metadata": {},
   "outputs": [],
   "source": [
    "c_iot_p = boto3.client('iot', region_name = config['aws_region_primary'])\n",
    "c_iot_s = boto3.client('iot', region_name = config['aws_region_secondary'])"
   ]
  },
  {
   "cell_type": "markdown",
   "metadata": {},
   "source": [
    "## IoT endpoints\n",
    "\n",
    "Get the IoT endpoints for AWS IoT Core in the primary and secondary region. In the example below you will connect to the primary region. To try a connection to the secondary region replace the variable `iot_endpoint_primary` with `iot_endpoint_secondary` in the examples below."
   ]
  },
  {
   "cell_type": "code",
   "execution_count": null,
   "metadata": {},
   "outputs": [],
   "source": [
    "response = c_iot_p.describe_endpoint(endpointType='iot:Data-ATS')\n",
    "iot_endpoint_primary = response['endpointAddress']\n",
    "print(\"iot_endpoint_primary: {}\".format(iot_endpoint_primary))\n",
    "\n",
    "response = c_iot_s.describe_endpoint(endpointType='iot:Data-ATS')\n",
    "iot_endpoint_secondary = response['endpointAddress']\n",
    "print(\"iot_endpoint_secondary: {}\".format(iot_endpoint_secondary))"
   ]
  },
  {
   "cell_type": "markdown",
   "metadata": {},
   "source": [
    "## Connect the device\n",
    "\n",
    "When a device is reqistered automatically by JITR it will be disconnected automatically after the first connection attempt and the device is being registered. In the first connection attempt you need to provide the device certificate together with the root CA's certificate in one file. After the device has been register you only need to present the device certificate during connect.\n",
    "\n",
    "After the connection has timed out the code will wait some seconds. It will then configure the credentials to use the device certificate only and connect again to AWS IoT Core.\n",
    "\n",
    "\n",
    "**Before you connect your device go to the AWS IoT Console -> \"MQTT test client\" and subscribe to `$aws/events/#` and `cmd/+/pca`.**\n",
    "\n",
    "When a certificate is being registered automatically AWS IoT Core is publishing a message to the topic\n",
    "\n",
    "`$aws/events/certificates/registered/[certificateId]`\n",
    "\n",
    "As you have enable registry events for the solution you will also get messages when a thing is being created. These message are published to the topic\n",
    "\n",
    "`$aws/events/thing/[clientId]/created`\n",
    "\n",
    "Set the variable `thing_name` to the same value that you used in the notebook to issue a device certificate.\n",
    "\n",
    "Feel free to create more certificates and connect more things."
   ]
  },
  {
   "cell_type": "code",
   "execution_count": null,
   "metadata": {},
   "outputs": [],
   "source": [
    "thing_name = 'dr-pca-04'\n",
    "\n",
    "root_ca = 'AmazonRootCA1.pem'\n",
    "\n",
    "device_key_file = '{}.device.key.pem'.format(thing_name)\n",
    "device_cert_file = '{}.device.cert.pem'.format(thing_name)\n",
    "device_root_cert_file = '{}.device.root.cert.pem'.format(thing_name)\n",
    "\n",
    "# AWS IoT Python SDK needs logging\n",
    "logger = logging.getLogger(\"AWSIoTPythonSDK.core\")\n",
    "#logger.setLevel(logging.DEBUG)\n",
    "logger.setLevel(logging.INFO)\n",
    "streamHandler = logging.StreamHandler()\n",
    "formatter = logging.Formatter(\"[%(asctime)s - %(levelname)s - %(filename)s:%(lineno)s - %(funcName)s - %(message)s\")\n",
    "streamHandler.setFormatter(formatter)\n",
    "logger.addHandler(streamHandler)\n",
    "\n",
    "myAWSIoTMQTTClient = None\n",
    "myAWSIoTMQTTClient = AWSIoTMQTTClient(thing_name)\n",
    "myAWSIoTMQTTClient.configureEndpoint(iot_endpoint_primary, 8883)\n",
    "myAWSIoTMQTTClient.configureCredentials(root_ca, \n",
    "                                        join(config['PCA_directory'], device_key_file), \n",
    "                                        join(config['PCA_directory'], device_root_cert_file))\n",
    "\n",
    "# AWSIoTMQTTClient connection configuration\n",
    "myAWSIoTMQTTClient.configureAutoReconnectBackoffTime(1, 32, 20)\n",
    "myAWSIoTMQTTClient.configureOfflinePublishQueueing(-1)  # Infinite offline Publish queueing\n",
    "myAWSIoTMQTTClient.configureDrainingFrequency(2)  # Draining: 2 Hz\n",
    "myAWSIoTMQTTClient.configureConnectDisconnectTimeout(10)  # 10 sec\n",
    "myAWSIoTMQTTClient.configureMQTTOperationTimeout(5)  # 5 sec\n",
    "\n",
    "# Connect and reconnect to AWS IoT\n",
    "try:\n",
    "    myAWSIoTMQTTClient.connect()\n",
    "except Exception as e:\n",
    "    logger.info('{}'.format(e))\n",
    "    myAWSIoTMQTTClient.configureCredentials(root_ca, \n",
    "                                        join(config['PCA_directory'], device_key_file), \n",
    "                                        join(config['PCA_directory'], device_cert_file))\n",
    "    time.sleep(5)\n",
    "    myAWSIoTMQTTClient.connect()"
   ]
  },
  {
   "cell_type": "markdown",
   "metadata": {},
   "source": [
    "## Verify\n",
    "\n",
    "Verify that the device has been created in the primary and the secondary region.\n",
    "\n",
    "### Primary region"
   ]
  },
  {
   "cell_type": "code",
   "execution_count": null,
   "metadata": {},
   "outputs": [],
   "source": [
    "response = c_iot_p.describe_thing(thingName = thing_name)\n",
    "\n",
    "print(\"response: {}\".format(json.dumps(response, indent=4, default=str)))"
   ]
  },
  {
   "cell_type": "markdown",
   "metadata": {},
   "source": [
    "### Secondary region"
   ]
  },
  {
   "cell_type": "code",
   "execution_count": null,
   "metadata": {},
   "outputs": [],
   "source": [
    "response = c_iot_s.describe_thing(thingName = thing_name)\n",
    "\n",
    "print(\"response: {}\".format(json.dumps(response, indent=4, default=str)))"
   ]
  },
  {
   "cell_type": "markdown",
   "metadata": {},
   "source": [
    "## Publish\n",
    "Publish a message in the primary region to verify that the device works as expected.\n",
    "\n",
    "**You have subsribed to \"cmd/+/pca# in the primary region?**"
   ]
  },
  {
   "cell_type": "code",
   "execution_count": null,
   "metadata": {},
   "outputs": [],
   "source": [
    "topic = 'cmd/{}/pca'.format(thing_name)\n",
    "print(\"topic: {}\".format(topic))\n",
    "message = {\"provisioned\": \"through ACM PCA combined with JITR\", \"thing_name\": \"{}\".format(thing_name)}\n",
    "\n",
    "myAWSIoTMQTTClient.publish(topic, json.dumps(message), 0)"
   ]
  },
  {
   "cell_type": "markdown",
   "metadata": {},
   "source": [
    "Disconnect the device from AWS IoT Core"
   ]
  },
  {
   "cell_type": "code",
   "execution_count": null,
   "metadata": {},
   "outputs": [],
   "source": [
    "myAWSIoTMQTTClient.disconnect()"
   ]
  }
 ],
 "metadata": {
  "kernelspec": {
   "display_name": "conda_python3",
   "language": "python",
   "name": "conda_python3"
  },
  "language_info": {
   "codemirror_mode": {
    "name": "ipython",
    "version": 3
   },
   "file_extension": ".py",
   "mimetype": "text/x-python",
   "name": "python",
   "nbconvert_exporter": "python",
   "pygments_lexer": "ipython3",
   "version": "3.6.10"
  }
 },
 "nbformat": 4,
 "nbformat_minor": 4
}
