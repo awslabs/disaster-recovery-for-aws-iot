{
 "cells": [
  {
   "cell_type": "markdown",
   "metadata": {},
   "source": [
    "## AWS IoT DR - Request device certificates from PCA\n",
    "\n",
    "First you create a key and a CSR. The CSR will be send to PCA which issues a certificate. These certificates can be used by your devices.\n",
    "\n",
    "Private, public key and the certificate will be stored on the local file system."
   ]
  },
  {
   "cell_type": "code",
   "execution_count": null,
   "metadata": {},
   "outputs": [],
   "source": [
    "from OpenSSL import crypto, SSL\n",
    "from os.path import exists, join\n",
    "from os import makedirs\n",
    "from shutil import copy\n",
    "from time import time, gmtime, localtime, strftime\n",
    "import boto3\n",
    "import json\n",
    "import time"
   ]
  },
  {
   "cell_type": "markdown",
   "metadata": {},
   "source": [
    "## Shared variables\n",
    "\n",
    "Import shared variables into this notebook."
   ]
  },
  {
   "cell_type": "code",
   "execution_count": null,
   "metadata": {},
   "outputs": [],
   "source": [
    "%store -r config\n",
    "print(\"config: {}\".format(json.dumps(config, indent=4, default=str)))"
   ]
  },
  {
   "cell_type": "markdown",
   "metadata": {},
   "source": [
    "## Some handy functions\n",
    "\n",
    "Create a key, a CSR and get the certificate from your private CA."
   ]
  },
  {
   "cell_type": "code",
   "execution_count": null,
   "metadata": {},
   "outputs": [],
   "source": [
    "def create_csr(pkey, subject, digest=\"sha256\"):\n",
    "    print(\"subject: {}\".format(subject))\n",
    "    req = crypto.X509Req()\n",
    "    subj = req.get_subject()\n",
    "    \n",
    "    for i in ['C', 'ST', 'L', 'O', 'OU', 'CN']:\n",
    "        if i in subject:\n",
    "            setattr(subj, i, subject[i])\n",
    "\n",
    "    req.set_pubkey(pkey)\n",
    "    req.sign(pkey, digest)\n",
    "    return req\n",
    "\n",
    "\n",
    "def create_priv_key_and_csr(cert_dir, csr_file, key_file, subject):\n",
    "    if not exists(cert_dir):\n",
    "        print(\"creating directory: {}\".format(cert_dir))\n",
    "        makedirs(cert_dir)\n",
    "        \n",
    "    priv_key = crypto.PKey()\n",
    "    priv_key.generate_key(crypto.TYPE_RSA, 2048)\n",
    "    #print(crypto.dump_privatekey(crypto.FILETYPE_PEM, priv_key).decode('utf-8'))\n",
    "\n",
    "    key_file = join(cert_dir, key_file)\n",
    "    f = open(key_file,\"w\")\n",
    "    f.write(crypto.dump_privatekey(crypto.FILETYPE_PEM, priv_key).decode('utf-8'))\n",
    "    f.close()\n",
    "    \n",
    "    csr = create_csr(priv_key, subject)\n",
    "\n",
    "    csr_file = join(cert_dir, csr_file)\n",
    "    f= open(csr_file,\"w\")\n",
    "    f.write(crypto.dump_certificate_request(crypto.FILETYPE_PEM, csr).decode('utf-8'))\n",
    "    f.close()\n",
    "    \n",
    "    return crypto.dump_certificate_request(crypto.FILETYPE_PEM, csr)\n",
    "\n",
    "\n",
    "def request_cert_from_pca(subject):\n",
    "    device_key_file = '{}.device.key.pem'.format(subject['CN'])\n",
    "    device_csr_file = '{}.device.csr.pem'.format(subject['CN'])\n",
    "    device_cert_file = '{}.device.cert.pem'.format(subject['CN'])\n",
    "    device_root_cert_file = '{}.device.root.cert.pem'.format(subject['CN'])\n",
    "    \n",
    "    device_csr = create_priv_key_and_csr(config['PCA_directory'], \n",
    "                                         device_csr_file, \n",
    "                                         device_key_file, \n",
    "                                         subject)\n",
    "    print(\"device_csr: {}\".format(device_csr))\n",
    "\n",
    "    idempotency_token = '{}_id_token'.format(subject['CN'])\n",
    "    response = c_acm_pca.issue_certificate(\n",
    "        CertificateAuthorityArn = pca_arn,\n",
    "        Csr = device_csr,\n",
    "        SigningAlgorithm = 'SHA256WITHRSA',\n",
    "        Validity= {\n",
    "            'Value': 365,\n",
    "            'Type': 'DAYS'\n",
    "        },\n",
    "        IdempotencyToken = idempotency_token\n",
    "    )\n",
    "\n",
    "    print(\"response: {}\".format(response))\n",
    "\n",
    "    certificate_arn = response['CertificateArn']\n",
    "    print(\"certificate_arn: {}\".format(certificate_arn))\n",
    "   \n",
    "    waiter = c_acm_pca.get_waiter('certificate_issued')\n",
    "    try:\n",
    "        waiter.wait(\n",
    "            CertificateAuthorityArn=pca_arn,\n",
    "            CertificateArn=certificate_arn\n",
    "        )\n",
    "    except botocore.exceptions.WaiterError as e:\n",
    "        raise Exception(\"waiter: {}\".format(e))\n",
    "    \n",
    "    response = c_acm_pca.get_certificate(\n",
    "        CertificateAuthorityArn = pca_arn,\n",
    "        CertificateArn = certificate_arn\n",
    "    )\n",
    "    print(\"response: {}\".format(response))\n",
    "    device_cert = response['Certificate']\n",
    "    print(\"device_cert: {}\".format(device_cert))\n",
    "\n",
    "    file_device_crt = join(config['PCA_directory'], device_cert_file)\n",
    "    f = open(file_device_crt,\"w\")\n",
    "    f.write(device_cert)\n",
    "    f.close()\n",
    "    \n",
    "    file_root_device_crt = join(config['PCA_directory'], device_root_cert_file)\n",
    "    f = open(file_root_device_crt,\"w\")\n",
    "    f.write(device_cert)\n",
    "    f.write(\"\\n\")\n",
    "    f.write(pca_certificate)\n",
    "    f.close()\n",
    "    \n",
    "    print(\"device_key_file: {}\".format(device_key_file))\n",
    "    print(\"device_csr_file: {}\".format(device_csr_file))\n",
    "    print(\"device_cert_file: {}\".format(device_cert_file))\n",
    "    print(\"device_root_cert_file: {}\".format(device_root_cert_file))"
   ]
  },
  {
   "cell_type": "markdown",
   "metadata": {},
   "source": [
    "## Boto3 client"
   ]
  },
  {
   "cell_type": "code",
   "execution_count": null,
   "metadata": {},
   "outputs": [],
   "source": [
    "c_acm_pca = boto3.client('acm-pca', region_name = config['aws_region_pca'])"
   ]
  },
  {
   "cell_type": "markdown",
   "metadata": {},
   "source": [
    "## PCA certificate and ARN\n",
    "Get the CA certificate for the private CA as well as it's arn. The arn is required to issue certificates and for the private CA certificate will be stored together with the device certificate."
   ]
  },
  {
   "cell_type": "code",
   "execution_count": null,
   "metadata": {},
   "outputs": [],
   "source": [
    "response = c_acm_pca.list_certificate_authorities(MaxResults=50)\n",
    "\n",
    "for ca in response['CertificateAuthorities']:\n",
    "    if ca['CertificateAuthorityConfiguration']['Subject']['CommonName'] == config['Sub_CN']:\n",
    "        pca_arn = ca['Arn']\n",
    "        break\n",
    "\n",
    "print(\"pca_arn: {}\".format(pca_arn))\n",
    "\n",
    "response = c_acm_pca.get_certificate_authority_certificate(\n",
    "    CertificateAuthorityArn = pca_arn\n",
    ")\n",
    "#print(\"response: {}\".format(json.dumps(response, indent=4, default=str)))\n",
    "pca_certificate = response['Certificate']\n",
    "print(\"pca_certificate:\\n{}\".format(pca_certificate))"
   ]
  },
  {
   "cell_type": "markdown",
   "metadata": {},
   "source": [
    "## Request device certificate\n",
    "Set the common name (CN) in your device certificate to be your thing or device name. Provide a thing name in the variable `thing_name`. \n",
    "\n",
    "The Just-in-Time Registration process will extract the CN from the certificate and use it as thing name."
   ]
  },
  {
   "cell_type": "code",
   "execution_count": null,
   "metadata": {},
   "outputs": [],
   "source": [
    "thing_name = \"dr-pca-04\"\n",
    "request_cert_from_pca({\"CN\": thing_name})"
   ]
  }
 ],
 "metadata": {
  "kernelspec": {
   "display_name": "conda_python3",
   "language": "python",
   "name": "conda_python3"
  },
  "language_info": {
   "codemirror_mode": {
    "name": "ipython",
    "version": 3
   },
   "file_extension": ".py",
   "mimetype": "text/x-python",
   "name": "python",
   "nbconvert_exporter": "python",
   "pygments_lexer": "ipython3",
   "version": "3.6.10"
  }
 },
 "nbformat": 4,
 "nbformat_minor": 4
}
